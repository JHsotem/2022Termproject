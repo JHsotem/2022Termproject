{
 "cells": [
  {
   "cell_type": "markdown",
   "id": "ac63d42f",
   "metadata": {},
   "source": [
    "# Term Project Plan"
   ]
  },
  {
   "cell_type": "markdown",
   "id": "25bfcece",
   "metadata": {},
   "source": [
    "2022104248 전자공학과 박재환 <br>"
   ]
  },
  {
   "cell_type": "markdown",
   "id": "0b39fd0e",
   "metadata": {},
   "source": [
    "# 주제"
   ]
  },
  {
   "cell_type": "markdown",
   "id": "3aa80161",
   "metadata": {},
   "source": [
    "여수시 버스정류장 및 버스노선 현황"
   ]
  },
  {
   "cell_type": "markdown",
   "id": "edec6580",
   "metadata": {},
   "source": [
    "##  1) 주제선정이유"
   ]
  },
  {
   "cell_type": "markdown",
   "id": "02301886",
   "metadata": {},
   "source": [
    "차가 없거나 주차할 때의 불편함과 같은 문제로 차를 끌고 나오기 싫을 때 사람들은 대중교통을 통해 먼거리를 이동하게 됩니다.. <br> \n",
    "여수에서 이용할 수 있는 대중교통은 3가지로 택시, 자전거, 버스를 이용할 수 있는데 택시의 경우 별도의 앱을 사용하지 않고서는 잡기 힘들 뿐더러 자전거는 아직 자전거 대여소가 널리 퍼져있지 않은 상황입니다. <br> \n",
    "위와 같은 이유로 여수사람들은 보통 버스를 택하게 되는데 여수의 버스노선은 타 도시를 넘어서는 복잡함을 자랑합니다. <br>\n",
    "같은 번호의 노선이더라도 정차하는 정류소나 종점 또는 기점이 다른 노선이 존재하는데 이를 잘못 승차하게 되면 원하지 않는 곳까지 그대로 타고 갈 수 밖에 없는 상황이 벌어집니다. <br> \n",
    "버스노선을 제대로 확인하고 탈 수 있도록 버스노선 별 지나치는 정류장을 정리하기 위해 주제를 선정하였습니다. <br>"
   ]
  },
  {
   "cell_type": "markdown",
   "id": "8ba9ee81",
   "metadata": {},
   "source": [
    "##  2) 가설 정의"
   ]
  },
  {
   "cell_type": "markdown",
   "id": "c09cc484",
   "metadata": {},
   "source": [
    "버스 노선 번호가 같으면서도 기점, 종점 및 지나는 정류장이 다른 이유는 여수에 여수국가산업단지(여수산단)이 있기 때문인 것으로 예상된다. <br> \n",
    "회사에서 통근을 위해 버스를 대여할 때 비인기 노선의 버스를 대여하는 경우가 많기 때문인데 이 때문에 노선이 복잡해질 것으로 예상된다. <br>"
   ]
  },
  {
   "cell_type": "markdown",
   "id": "57d67c95",
   "metadata": {},
   "source": [
    "## 3) 인터넷을 통한 데이터 획득"
   ]
  },
  {
   "cell_type": "markdown",
   "id": "37df2211",
   "metadata": {},
   "source": [
    "버스 노선과 버스 정류장 현황을 분석하기 위해서 '공공데이터 포탈'에서 버스정류장 현황에 대한 정보를 가져왔습니다.<br>\n",
    "https://www.data.go.kr/index.do <br> <br>\n",
    "버스 노선에 대한 정보를 얻기 위해서 전국 버스 시간표와 노선정보 및 운임 요금을 정리해둔 사이트에서 여수시의 버스 정보를 크롤링했습니다. <br>\n",
    "https://bus.koreacharts.com/city-bus/36020.html <br><br>\n",
    "버스 정류장 현황을 지도에 표시하기 위해서 버스정류장의 위도와 경도 정보를 얻어야만 했고 이를 위해서 '공공데이터 포탈'의 공공 api활용 신청을 하여 데이터를 수집할 수 있었습니다. <br>\n",
    "https://www.data.go.kr/tcs/dss/selectApiDataDetailView.do?publicDataPk=15058844  <br><br>\n"
   ]
  },
  {
   "cell_type": "markdown",
   "id": "fee202b9",
   "metadata": {},
   "source": [
    "## 4) 분석을 위한 데이터의 가공"
   ]
  },
  {
   "cell_type": "markdown",
   "id": "2c18ab4e",
   "metadata": {},
   "source": [
    "버스 노선정보를 얻기위해서 여수버스노선정보를 담고 있는 웹사이트를 크롤링 했어야 했습니다. 이때 노선 각각의 정보를 담은 사이트가 'a href'로 다른 웹사이트로 연결되어 있는 구조였기 때문에 먼저 노선에 따른 url을 크롤링하여 list 형태로 저장했습니다. <br> <br>\n",
    "위의 크롤링을 통해 얻은 url들로 반복문을 통해 각각의 노선번호를 정리한 list를 만들었습니다. 정리된 노선번호의 리스트에서 중복되는 노선이 있는 번호들을 따와 새로운 리스트를 만들었는데 생각보다 중복되는 노선이 많아 중복되는 모든 노선에 기점과 종점을 기록하여 정리하였습니다. <br> <br>\n",
    "버스노선이 경유하는 정류장 정보를 크롤링 할 때는 html코드에서 특정 부분만 크롤링하는 것이 어려워 url의 body부분에 있는 모든 내용을 크롤링하여 필요한 부분만을 잘라내어 사용하였습니다. 노선 별 지나는 버스정류장과 노선 번호를 list in list 형태로 정리하여 앞서 정리한 노선번호의 리스트와 합쳐 새로운 리스트를 만들었습니다. <br> \n",
    "버스 정류장을 지도위에 표시하기 위하여 버스정류장의 위도와 경도 정보가 필요하였는데 이를 공공 api에 버스정류장 ID를 사용하여 얻을 수 있었습니다. 먼저 버스정류장 ID를 얻기 위하여 '전라남도_여수시_버스정류장정보_20180828.csv' 파일을 가공하였습니다. 데이터가 온전하지 않아 ID가 없는 경우를 모두 제거하여 새로운 파일로 정리하였습니다.  <br>  <br>\n",
    "버스정류장의 ID를 활용하여 위도와 경도정보를 얻기위해서 공공 api를 활용하였습니다. 공공 api의 데이터포멧이 html이나 인터넷에 자료가 상대적으로 많은 json이 아닌 생소한 XML이였기 때문에 뷰티풀수프를 통해 크롤링하는 과정에서 인코딩 오류와 파서 선택문제, 태그를 통한 정보수집 방법을 해결하기 위해 많은 시간을 투자하였습니다. 이를 해결하여 list로 정리하였습니다. 써드 파티 프로그램 중 folium을 활용하여 여수지도를 불러와 지도위에 버스정류장 이름이 나오는 마커를 띄웠습니다. 지도의 색깔은 주로 초록색이나 회색계열이기 때문에 마커를 쉽게 확인할 수 있도록 발간색으로 설정하였습니다.  <br> <br>\n",
    "마지막으로 버스정류장 둘을 직행으로 이동가능한 버스노선번호를 확인할 수 있는 함수를 만들었습니다. 함수에 두개의 파라미터를 주면 두 버스정류장을 직행으로 가는 버스가 있는 경우 그 버스의 목록을 출력하고 없을 경우 \"해당 정류장으로 직행하는 버스가 없습니다.\" 라는 문장을 출력하도록 코드를 작성하였습니다. <br>"
   ]
  },
  {
   "cell_type": "markdown",
   "id": "e0460d36",
   "metadata": {},
   "source": [
    "## 5) 분석 결과 도출"
   ]
  },
  {
   "cell_type": "markdown",
   "id": "84410926",
   "metadata": {},
   "source": [
    "가설 정의에서 예상한대로 몇몇노선에서 기점및 종점, 경유 정류장이 다른 노선들이 존재함을 확인할 수 있었습니다. 특히 31번 노선과 91번, 109번 외의 여러 다른 노선들이 4개의 다른 노선이 존재하였으며 특히 21번의 경우 파생 노선이 총 6개로 가장 많은 파생노선을 가지고 있음이 확인되었습니다. <br>\n",
    "버스 노선번호 뒤에 기점과 종점을 명확히 기재함으로서 파생노선들을 서로 구분할 수 있었습니다. <br>"
   ]
  },
  {
   "cell_type": "markdown",
   "id": "9d1839e9",
   "metadata": {},
   "source": [
    "## 6) 결론"
   ]
  },
  {
   "cell_type": "markdown",
   "id": "c567d1fb",
   "metadata": {},
   "source": [
    "여수의 복잡한 버스노선은 여수산단이라는 산업단지의 존재 때문에 필연적으로 계속될수밖에 없습니다. 따라서 버스를 잘못 탑승하여 벌어지는 불상사를 예방하기 위해서 다음과 같은 해결책을 제시할 수 있었습니다. <br> \n",
    "먼저 버스의 정면부분에 기점과 종점을 명확하게 명시해두면 사람들이 버스 노선 구분에 더더욱 도움이 될 것으로 예상됩니다. 두번째로 여수교통을 실시간으로 제공중인 사이트인 <br> https://its.yeosu.go.kr/busInfo.do# <br> 을 모바일에서도 사용하기 편하도록 앱으로 개발한다면 중복노선에 의한 문제를 어느정도 해결할 수 있을 것으로 예상됩니다. "
   ]
  },
  {
   "cell_type": "markdown",
   "id": "756dd107",
   "metadata": {},
   "source": [
    "## 7) 참고문헌"
   ]
  },
  {
   "cell_type": "markdown",
   "id": "4b6393c8",
   "metadata": {},
   "source": [
    "\"처음 배우는 데이터 과학(필드 케이디 저)\"[도서] <br>\n",
    "\"PYTHON 홈페이지\"[웹사이트] - https://www.python.org/ <br>\n",
    "\"XML 데이터 추출하기\"[웹사이트] - https://king-rabbit.github.io/python/xml-parsing/ <br>\n",
    "\"folium 활용하여 지도위 마킹하기\"[웹사이트] - https://yoo-young.tistory.com/29 <br> \n",
    "\"OpenAPI활용가이드_여수시_버스정보_버스정류장정보\" [워드 문서] (별첨) <br> "
   ]
  },
  {
   "cell_type": "markdown",
   "id": "92febbb8",
   "metadata": {},
   "source": [
    "## 8) 별첨 ((3)의 획득한 데이터 원본)"
   ]
  },
  {
   "cell_type": "markdown",
   "id": "d81d0449",
   "metadata": {},
   "source": [
    "https://bus.koreacharts.com/city-bus/36020.html [웹사이트] <br>\n",
    "https://www.data.go.kr/tcs/dss/selectApiDataDetailView.do?publicDataPk=15058844 [웹사이트] <br>\n",
    "웹사이트에서 뷰티풀수프로 크롤링하여 데이터를 활용하였습니다.  <br>\n",
    "전라남도_여수시_버스정류장정보_20180828.csv 파일은 별첨하였습니다.  <br>"
   ]
  },
  {
   "cell_type": "markdown",
   "id": "b12bcbc7",
   "metadata": {},
   "source": [
    "## 9) 별첨 ((4)의 가공된 데이터 원본)"
   ]
  },
  {
   "cell_type": "markdown",
   "id": "f936c320",
   "metadata": {},
   "source": [
    "전라남도_여수시_버스정류장정보_20180828_fixed.csv <br>\n",
    "버스노선 _ 및_정류장_데이터_크롤링.csv <br>\n",
    "파일을 별첨하였습니다.  <br>\n",
    "나머지 가공된 데이터는 10) 별첨 소스코드에서 확인할 수 있습니다.  <br>"
   ]
  },
  {
   "cell_type": "markdown",
   "id": "db64530a",
   "metadata": {},
   "source": [
    "## 10) 별첨 (본인이 개발한 소스코드)"
   ]
  },
  {
   "cell_type": "markdown",
   "id": "489cdddc",
   "metadata": {},
   "source": [
    "2022104248TermprojectSourceCode.ipynb 별첨하였습니다. <br>"
   ]
  }
 ],
 "metadata": {
  "kernelspec": {
   "display_name": "Python 3 (ipykernel)",
   "language": "python",
   "name": "python3"
  },
  "language_info": {
   "codemirror_mode": {
    "name": "ipython",
    "version": 3
   },
   "file_extension": ".py",
   "mimetype": "text/x-python",
   "name": "python",
   "nbconvert_exporter": "python",
   "pygments_lexer": "ipython3",
   "version": "3.9.12"
  }
 },
 "nbformat": 4,
 "nbformat_minor": 5
}
